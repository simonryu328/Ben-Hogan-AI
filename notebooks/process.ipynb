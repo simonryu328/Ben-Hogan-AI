{
 "cells": [
  {
   "cell_type": "code",
   "execution_count": 31,
   "metadata": {},
   "outputs": [],
   "source": [
    "import fitz # requires PyMuPDF\n",
    "from tqdm.auto import tqdm"
   ]
  },
  {
   "cell_type": "code",
   "execution_count": 32,
   "metadata": {},
   "outputs": [
    {
     "data": {
      "application/vnd.jupyter.widget-view+json": {
       "model_id": "9d398c1d228144ba9f179d5fb3d8cebb",
       "version_major": 2,
       "version_minor": 0
      },
      "text/plain": [
       "0it [00:00, ?it/s]"
      ]
     },
     "metadata": {},
     "output_type": "display_data"
    },
    {
     "data": {
      "text/plain": [
       "[{'page_number': 0,\n",
       "  'page_char_count': 0,\n",
       "  'page_word_count': 1,\n",
       "  'page_sentence_count_raw': 1,\n",
       "  'page_token_count': 0.0,\n",
       "  'text': ''},\n",
       " {'page_number': 1,\n",
       "  'page_char_count': 125,\n",
       "  'page_word_count': 20,\n",
       "  'page_sentence_count_raw': 1,\n",
       "  'page_token_count': 31.25,\n",
       "  'text': 'Ben Hogan’s Five Lessons The Modern Fundamentals of Golf Ben Hogan, with Herbert Warren Wind and Drawings by Anthony Ravielli'},\n",
       " {'page_number': 2,\n",
       "  'page_char_count': 0,\n",
       "  'page_word_count': 1,\n",
       "  'page_sentence_count_raw': 1,\n",
       "  'page_token_count': 0.0,\n",
       "  'text': ''},\n",
       " {'page_number': 3,\n",
       "  'page_char_count': 0,\n",
       "  'page_word_count': 1,\n",
       "  'page_sentence_count_raw': 1,\n",
       "  'page_token_count': 0.0,\n",
       "  'text': ''},\n",
       " {'page_number': 4,\n",
       "  'page_char_count': 59,\n",
       "  'page_word_count': 8,\n",
       "  'page_sentence_count_raw': 1,\n",
       "  'page_token_count': 14.75,\n",
       "  'text': 'Digital Edition Published 2018 House of Majied Publications'},\n",
       " {'page_number': 5,\n",
       "  'page_char_count': 154,\n",
       "  'page_word_count': 29,\n",
       "  'page_sentence_count_raw': 6,\n",
       "  'page_token_count': 38.5,\n",
       "  'text': 'Contents Copyright The Fundamentals 1. The Grip 2. Stance and Posture 3. The First Part of the Swing 4. The Second Part of the Swing 5. Summary and Review'},\n",
       " {'page_number': 6,\n",
       "  'page_char_count': 2306,\n",
       "  'page_word_count': 438,\n",
       "  'page_sentence_count_raw': 16,\n",
       "  'page_token_count': 576.5,\n",
       "  'text': 'The Fundamentals Twenty-five years ago, when I was 19, I became a professional golfer. I suppose that if I fed the right pieces of data to one of our modern “electronic brain” machines it would perform a few gyrations and shortly afterwards inform me as to how many hundreds of thousands of shots I have hit on practice fairways, how many thousands of shots I have struck in competition, how many times I have taken three putts when there was absolutely no reason for doing so, and all the rest of it. Like most professional golfers, I have a tendency to remember my poor shots a shade more vividly than the good ones — the one or two per round, seldom more, which come off exactly as I intend they should. However, having worked hard on my golf with all the mentality and all the physical resources available to me, I have managed to play some very good shots at very important stages of major tournaments. To cite one example which many of my friends remember with particular fondness — and I, too, for that matter — in 1950 at Merion, I needed a 4 on the 72nd to tie for first in the Open. To get that 4 I needed to hit an elusive, well-trapped, slightly plateaued green from about 200 yards out. There are easier shots in golf. I went with a two-iron and played what was in my honest judgment one of the best shots of my last round, perhaps one of the best I played during the tournament. The ball took off on a line for the left-center of the green, held its line firmly, bounced on the front edge of the green, and finished some 40 feet from the cup. It was all I could have asked for. I then got down in two putts for my 4, and this enabled me to enter the playoff for the title which I was thankful to win the following day. I bring up this incident not for the pleasure of retasting the sweetness of a “big moment” but, rather, because I have discovered in many conversations that the view I take of this shot (and others like it) is markedly different from the view most spectators seem to have formed. They are inclined to glamorize the actual shot since it was hit in a pressureful situation. They tend to think of it as something unique in itself, something almost inspired, you might say, since the shot was just what the occasion called for. I don’t see it that way at all. I didn’t hit that'},\n",
       " {'page_number': 7,\n",
       "  'page_char_count': 2637,\n",
       "  'page_word_count': 477,\n",
       "  'page_sentence_count_raw': 14,\n",
       "  'page_token_count': 659.25,\n",
       "  'text': 'shot then — that late afternoon at Merion. I’d been practicing that shot since I was 12 years old. After all, the point of tournament golf is to get command of a swing which, the more pressure you put on it, the better it works. In some important respects, tournament golf and golf are as foreign to each other as ice hockey and tennis. In other respects they’re not: the professional shooting for his livelihood on the circuit (with his pride, some pleasure, and thousands of dollars at stake) and the average golfer trying to produce his best game on weekends (with his pride, his pleasure, and a dollar Nassau at stake) are both searching to master the movements that will result in a repeating swing — A CORRECT, POWERFUL, REPEATING SWING. This can be stated categorically: it is utterly impossible for any golfer to play good golf without a swing that will repeat. How then do you build a swing that you can depend on to repeat in all kinds of wind and weather, under all kinds of presses and pressure? Having devoted the bulk of my waking hours (and a few of my sleeping hours) for a quarter of a century to the pursuit of the answer, I now believe that what I have learned can be of tremendous assistance to all golfers. That is my reason for undertaking this series of lessons. I do not propose to deal in theory. What I have learned I have learned by laborious trial and error, watching a good player do something that looked right to me, stumbling across something that felt right to me, experimenting with that something to see if it helped or hindered, adopting it if it helped, refining it sometimes, discarding it if it didn’t help, sometimes discarding it later if it proved undependable in competition, experimenting continually with new ideas and old ideas and all manner of variations until I arrived at a set of fundamentals that appeared to me to be right because they accomplished a very definite purpose, a set of fundamentals which proved to me they were right because they stood up and produced under all kinds of pressure. To put it briefly, the information I will be presenting is a sifting of the knowledge I’ve tried to acquire since I first met up with golf when I was 12 and knew, almost immediately, I wanted to make the game my lifework. Up to a considerable point, as I see it, there’s nothing difficult about golf, nothing. I see no reason, truly, why the average golfer, if he goes about it intelligently, shouldn’t play in the 70s — and I mean by playing the type of shots a fine golfer plays. Somehow most average golfers get it into their head that they can’t play a “long shot” correctly, that they'},\n",
       " {'page_number': 8,\n",
       "  'page_char_count': 2686,\n",
       "  'page_word_count': 483,\n",
       "  'page_sentence_count_raw': 23,\n",
       "  'page_token_count': 671.5,\n",
       "  'text': 'haven’t got the skill or coordination to execute a full swing. Putting or chipping, that’s another story. The average golfer feels he can cope pretty successfully with those parts of the game — all they require is a short swing. In my opinion, the average golfer underrates himself. He has all the physical equipment he needs to execute the full golf swing and hit full shots. A full swing is nothing more or less than an extension of the short swing. Like everything, it takes some learning, but learning the correct movements is 10 times less difficult than he thinks. In fact, once you are on the right track in golf, doing things the right way takes a lot less effort than the wrong way does. I realize that in some ways I can be a demanding man and that some things are harder for certain people to do than I may appreciate, but it really cuts me up to watch some golfer sweating over his shots on the practice tee, throwing away his energy to no constructive purpose, nine times out of 10 doing the same thing wrong he did years and years back when he first took up golf. This sort of golfer obviously loves the game or he wouldn’t be out there practicing it. I cannot watch him long. His frustration — all that fruitless expenditure of energy — really bothers me. If he stands out there on the practice tee till he’s 90, he’s not going to improve. He’s going to get worse and worse because he’s going to get his bad habits more and more deeply ingrained. I know that thousands of golfers console themselves with the game’s being an avenue to exercise and companionship — which is wonderful — but every golfer, at the bottom of his heart, wants to play the game relatively well. To do that takes some application, some thought, some effort, but the golfer who goes about this wisely will play good golf and should go on to enjoy his golf increasingly the rest of his life. The greatest pleasure is obtained by improving. Before we commence the instruction, let me tell you more specifically what we will be doing and what we hope to accomplish. To begin with, the book will comprise five lessons. In each one we will be presenting the golfer-reader with one or two fundamentals for him to practice and become well acquainted with so that he will be building a progressively sound foundation on which the ensuing fundamentals can be added. The golfer who devotes a half hour daily to practicing the points we will be bringing out during these five lessons will, I believe, improve his game and his scoring immediately and decisively. The degree of improvement his game will show will vary with the quality of each individual’s application. By continuing to practice and apply these'},\n",
       " {'page_number': 9,\n",
       "  'page_char_count': 2135,\n",
       "  'page_word_count': 384,\n",
       "  'page_sentence_count_raw': 17,\n",
       "  'page_token_count': 533.75,\n",
       "  'text': 'fundamentals, the golfer will continue to improve his game — quite often, far beyond his fondest dreams. I do genuinely believe this: THE AVERAGE GOLFER IS ENTIRELY CAPABLE OF BUILDING A REPEATING SWING AND BREAKING 80, if he learns to perform a small number of correct movements and conversely, it follows, eliminates a lot of movements which tend to keep the swing from repeating. In these lessons we will certainly not be attempting to cover all of golf or even one-hundredth of that almost inexhaustible subject. What we will be concerning ourselves with are the facts of golf which have proved themselves to be the true fundamentals — fundamentals that can be checked and not simply left to the imagination or to guesswork. This is all that is really needed. In the opinion of friends of mine who are out-and-out traditionalists, many of my ideas on the golf swing are quite revolutionary. Some of them are, I believe. As I see it, some measures long esteemed to be of paramount importance in the golf swing are really not important at all. On the other hand, certain other measures that have been considered to be of only secondary importance (or of no importance at all) strike me as being invaluable — to be, in fact, the true fundamentals of the modern golf swing. Another thing. I am an advocate of that kind of teaching which stresses the exact nature and feel of the movements a player makes to achieve the result he wants. If you were teaching a child how to open a door, you wouldn’t open the door for him and then describe at length how the door looked when it was open. No, you would teach him how to turn the doorknob so that he could open the door himself. Similarly, in these lessons our method will stress what you do to achieve the result you’re after. The actions that cause the result — these are the true fundamentals of golf. For all the personal touches and mannerisms which are part of their individual styles, I have never seen a great player whose method of striking the ball did not include the fundamentals we will emphasize. Otherwise — it is as simple as that — that golfer could not be a great player.'}]"
      ]
     },
     "execution_count": 32,
     "metadata": {},
     "output_type": "execute_result"
    }
   ],
   "source": [
    "pdf_path = \"../data/ben-hogan.pdf\"\n",
    "\n",
    "def text_formatter(text: str) -> str:\n",
    "    \"\"\"Performs minor formatting on text.\"\"\"\n",
    "    cleaned_text = text.replace(\"\\n\", \" \").strip() # note: this might be different for each doc (best to experiment)\n",
    "\n",
    "    # Other potential text formatting functions can go here\n",
    "    return cleaned_text\n",
    "\n",
    "# Open PDF and get lines/pages\n",
    "# Note: this only focuses on text, rather than images/figures etc\n",
    "def open_and_read_pdf(pdf_path: str) -> list[dict]:\n",
    "    \"\"\"\n",
    "    Opens a PDF file, reads its text content page by page, and collects statistics.\n",
    "\n",
    "    Parameters:\n",
    "        pdf_path (str): The file path to the PDF document to be opened and read.\n",
    "\n",
    "    Returns:\n",
    "        list[dict]: A list of dictionaries, each containing the page number\n",
    "        (adjusted), character count, word count, sentence count, token count, and the extracted text\n",
    "        for each page.\n",
    "    \"\"\"\n",
    "    doc = fitz.open(pdf_path)  # open a document\n",
    "    pages_and_texts = []\n",
    "    for page_number, page in tqdm(enumerate(doc)):  # iterate the document pages\n",
    "        text = page.get_text()  # get plain text encoded as UTF-8\n",
    "        text = text_formatter(text)\n",
    "        pages_and_texts.append({\"page_number\": page_number,  # adjust page numbers since our PDF starts on page 42\n",
    "                                \"page_char_count\": len(text),\n",
    "                                \"page_word_count\": len(text.split(\" \")),\n",
    "                                \"page_sentence_count_raw\": len(text.split(\". \")),\n",
    "                                \"page_token_count\": len(text) / 4,  # 1 token = ~4 chars, see: https://help.openai.com/en/articles/4936856-what-are-tokens-and-how-to-count-them\n",
    "                                \"text\": text})\n",
    "    return pages_and_texts\n",
    "\n",
    "pages_and_texts = open_and_read_pdf(pdf_path=pdf_path)\n",
    "pages_and_texts[:10]"
   ]
  },
  {
   "cell_type": "code",
   "execution_count": 33,
   "metadata": {},
   "outputs": [
    {
     "data": {
      "text/plain": [
       "[{'page_number': 10,\n",
       "  'page_char_count': 2068,\n",
       "  'page_word_count': 374,\n",
       "  'page_sentence_count_raw': 19,\n",
       "  'page_token_count': 517.0,\n",
       "  'text': '1   The Grip GOOD GOLF BEGINS WITH A GOOD GRIP. This statement, I realize, packs as much explosive punch as announcing the startling fact that the battery in baseball is composed of a pitcher and a catcher. Moreover, for most golfers the grip is the drabbest part of the swing. There’s no glamour to it. They see it accomplishing nothing active, nothing decisive. On the other hand, for myself and other serious golfers there is an undeniable beauty in the way a fine player sets his hands on the club. Walter Hagen, for instance, had a beautiful grip, delicate and at the same time powerful. It always looked to me as if Hagen’s hands had been especially designed to fit on a golf club. Of the younger players today, Jack Burke gets his hands on the club very handsomely. No doubt a professional golfer’s admiration for an impressive grip comes from his knowledge that, far from being a static “still life” sort of thing, the grip is the heartbeat of the action of the golf swing. Logically, it has to be. The player’s only contact with the ball is through the clubhead, and his only direct physical contact with the club is through his hands. In the golf swing, the power is originated and generated by the movements of the body. As this power builds up, it is transferred from the body to the arms, which in turn transfer it through the hands to the clubhead. It multiplies itself enormously with every transfer, like a chain action in physics. Or, to use a more familiar example, think of the children’s game of snap-the-whip where the element at the end of the chain (in golf, the clubhead) is going thousands of times faster than the element which originated the velocity. This chain action depends on a proper grip. With a defective grip, a golfer cannot hold the club securely at the top of the backswing — the club will fly out of control every time. And if the club is not controlled by a proper grip, the power a golfer generates with his body never reaches the club through his hands on the downswing, and the clubhead cannot be accelerated to its maximum.'},\n",
       " {'page_number': 95,\n",
       "  'page_char_count': 2710,\n",
       "  'page_word_count': 504,\n",
       "  'page_sentence_count_raw': 19,\n",
       "  'page_token_count': 677.5,\n",
       "  'text': 'Stewart’s knee, I noticed, broke in nicely to the right. I practiced correcting my knee action on the lawn at home until there was no lawn left. In the neighborhood where our family lived, each of the houses had a small lawn that was separated from the others by hedges. The grocery store was about six houses or six lawns away. Whenever my mother sent me to the store for a loaf of bread or a pound of butter or whatever it was, I never walked to the store, I always played to it, sometimes chipping from one lawn to the next, sometimes setting the lawn two or three hedges away as my “green,” sometimes hitting to the farthest “green” with a full nine-iron shot — all the time checking my left knee action or whatever phase of my swing I was working on. I doubt if my practice improved the looks of the neighborhood, but it was awfully good for my game. In golf, you know, you learn some things very early and other things surprisingly late. For example, take just three of the several elements I now regard as absolutely fundamental to any and every good swing: the proper waggle, the proper hip turn, and the proper backswing plane. I came to understand the value of the waggle comparatively early: I was just starting to follow the circuit in 1932 when I learned from observing Johnny Revolta and talking with him that this genius of the short game geared himself for the different demands of each shot around the greens by modifying his waggle to suit that particular shot. Say he had to pop the ball over a bunker and have it put on the brakes immediately. He’d waggle with sharp, staccato, jabby strokes, a “coming attraction” of the stroke he’d use to clip the ball the way it had to be clipped to produce maximum bite. Or say he was pitching the ball to land on a selected point on a slippery green and was going to let the ball trickle the rest of the way to the cup down a side slope. He’d gear himself then with delicate, little pencil-stroke waggles that seemed to be all finger tips. And so on and on — an individual waggle for each different chip shot in his marvelous repertoire. It struck me that it would be a very intelligent thing to use this method of Johnny’s not only for my short shots but to adapt it also for my full shots. I began to do so immediately. Not long after this — in the middle 1930s, I would say — I got the correct hip-turn action clear in my mind, mainly from studying newsreel movies of the best golfers in action. It wasn’t until 1938, though, that I grasped the concept of the plane. I’d been thinking sporadically about the plane for some time before that, examining the plane on which the batter swings in baseball and making some tentative suppositions about the'},\n",
       " {'page_number': 57,\n",
       "  'page_char_count': 2185,\n",
       "  'page_word_count': 405,\n",
       "  'page_sentence_count_raw': 20,\n",
       "  'page_token_count': 546.25,\n",
       "  'text': 'golfer takes the club back on the waggle, he accustoms himself to the path the club will be taking on his actual backswing. As he waggles the club forward, he adjusts himself so that the face of the clubhead will be coming into the ball square and on the line. During the waggle, as he previews his shot and attempts to telegraph his mental picture from his brain to his muscles, the golfer makes the little adjustments necessary to be perfectly in balance for hitting that particular shot from that particular lie. As he waggles, he tunes himself up and tones himself up for his swing. The shoulders do not turn during the waggle. The feet make only small adjusting movements. The hands and arms move. As they waggle the club, the hands and arms pass their rhythm, their tempo of coordination, on to the legs and feet. The trunk of the body and the shoulders pick up this beat, smoothly, from the arms and the legs. The whole body, in effect, becomes synchronized to the rhythm in which the various parts will be working cohesively together during the swing. If you take full advantage of the opportunity the waggle affords, you can practically rehearse the swing you’ll be using. I know that I have sometimes concentrated so hard on the shot I was going to hit that I honestly felt the shot could not fail to come off exactly as I intended. On those occasions I had the definite sensation that I had really hit the shot before I even started my club back. In the waggle, the left hand is the controlling hand. The right works along with the left. EACH TIME YOU WAGGLE THE CLUB BACK, THE RIGHT ELBOW SHOULD HIT THE FRONT PART OF YOUR RIGHT HIP, JUST ABOUT WHERE YOUR WATCH POCKET IS. WHEN THIS TAKES PLACE, THE LEFT ELBOW, AS IT MUST, COMES OUT SLIGHTLY, THE LOWER PART OF THE ARM FROM THE ELBOW DOWN ROTATES A LITTLE, AND THE LEFT HAND MOVES THREE INCHES OR SO PAST THE BALL TOWARD THE TARGET. AS THE HANDS MOVE BACK TO THE BALL ON THE FORWARD WAGGLE, THE LEFT HAND ALSO MOVES AN INCH OR TWO PAST THE BALL TOWARD THE TARGET. During the waggle, the upper part of the arms remain rooted against the sides of the chest. As we stated earlier, there should be no turning of the shoulders.'}]"
      ]
     },
     "execution_count": 33,
     "metadata": {},
     "output_type": "execute_result"
    }
   ],
   "source": [
    "import random\n",
    "\n",
    "random.sample(pages_and_texts, k=3)"
   ]
  },
  {
   "cell_type": "code",
   "execution_count": 34,
   "metadata": {},
   "outputs": [
    {
     "data": {
      "text/plain": [
       "115"
      ]
     },
     "execution_count": 34,
     "metadata": {},
     "output_type": "execute_result"
    }
   ],
   "source": [
    "len(pages_and_texts)"
   ]
  },
  {
   "cell_type": "code",
   "execution_count": 35,
   "metadata": {},
   "outputs": [
    {
     "data": {
      "text/html": [
       "<div>\n",
       "<style scoped>\n",
       "    .dataframe tbody tr th:only-of-type {\n",
       "        vertical-align: middle;\n",
       "    }\n",
       "\n",
       "    .dataframe tbody tr th {\n",
       "        vertical-align: top;\n",
       "    }\n",
       "\n",
       "    .dataframe thead th {\n",
       "        text-align: right;\n",
       "    }\n",
       "</style>\n",
       "<table border=\"1\" class=\"dataframe\">\n",
       "  <thead>\n",
       "    <tr style=\"text-align: right;\">\n",
       "      <th></th>\n",
       "      <th>page_number</th>\n",
       "      <th>page_char_count</th>\n",
       "      <th>page_word_count</th>\n",
       "      <th>page_sentence_count_raw</th>\n",
       "      <th>page_token_count</th>\n",
       "      <th>text</th>\n",
       "    </tr>\n",
       "  </thead>\n",
       "  <tbody>\n",
       "    <tr>\n",
       "      <th>0</th>\n",
       "      <td>0</td>\n",
       "      <td>0</td>\n",
       "      <td>1</td>\n",
       "      <td>1</td>\n",
       "      <td>0.00</td>\n",
       "      <td></td>\n",
       "    </tr>\n",
       "    <tr>\n",
       "      <th>1</th>\n",
       "      <td>1</td>\n",
       "      <td>125</td>\n",
       "      <td>20</td>\n",
       "      <td>1</td>\n",
       "      <td>31.25</td>\n",
       "      <td>Ben Hogan’s Five Lessons The Modern Fundamenta...</td>\n",
       "    </tr>\n",
       "    <tr>\n",
       "      <th>2</th>\n",
       "      <td>2</td>\n",
       "      <td>0</td>\n",
       "      <td>1</td>\n",
       "      <td>1</td>\n",
       "      <td>0.00</td>\n",
       "      <td></td>\n",
       "    </tr>\n",
       "    <tr>\n",
       "      <th>3</th>\n",
       "      <td>3</td>\n",
       "      <td>0</td>\n",
       "      <td>1</td>\n",
       "      <td>1</td>\n",
       "      <td>0.00</td>\n",
       "      <td></td>\n",
       "    </tr>\n",
       "    <tr>\n",
       "      <th>4</th>\n",
       "      <td>4</td>\n",
       "      <td>59</td>\n",
       "      <td>8</td>\n",
       "      <td>1</td>\n",
       "      <td>14.75</td>\n",
       "      <td>Digital Edition Published 2018 House of Majied...</td>\n",
       "    </tr>\n",
       "  </tbody>\n",
       "</table>\n",
       "</div>"
      ],
      "text/plain": [
       "   page_number  page_char_count  page_word_count  page_sentence_count_raw  \\\n",
       "0            0                0                1                        1   \n",
       "1            1              125               20                        1   \n",
       "2            2                0                1                        1   \n",
       "3            3                0                1                        1   \n",
       "4            4               59                8                        1   \n",
       "\n",
       "   page_token_count                                               text  \n",
       "0              0.00                                                     \n",
       "1             31.25  Ben Hogan’s Five Lessons The Modern Fundamenta...  \n",
       "2              0.00                                                     \n",
       "3              0.00                                                     \n",
       "4             14.75  Digital Edition Published 2018 House of Majied...  "
      ]
     },
     "execution_count": 35,
     "metadata": {},
     "output_type": "execute_result"
    }
   ],
   "source": [
    "import pandas as pd\n",
    "\n",
    "df = pd.DataFrame(pages_and_texts)\n",
    "df.head()"
   ]
  },
  {
   "cell_type": "code",
   "execution_count": 36,
   "metadata": {},
   "outputs": [
    {
     "data": {
      "text/html": [
       "<div>\n",
       "<style scoped>\n",
       "    .dataframe tbody tr th:only-of-type {\n",
       "        vertical-align: middle;\n",
       "    }\n",
       "\n",
       "    .dataframe tbody tr th {\n",
       "        vertical-align: top;\n",
       "    }\n",
       "\n",
       "    .dataframe thead th {\n",
       "        text-align: right;\n",
       "    }\n",
       "</style>\n",
       "<table border=\"1\" class=\"dataframe\">\n",
       "  <thead>\n",
       "    <tr style=\"text-align: right;\">\n",
       "      <th></th>\n",
       "      <th>page_number</th>\n",
       "      <th>page_char_count</th>\n",
       "      <th>page_word_count</th>\n",
       "      <th>page_sentence_count_raw</th>\n",
       "      <th>page_token_count</th>\n",
       "    </tr>\n",
       "  </thead>\n",
       "  <tbody>\n",
       "    <tr>\n",
       "      <th>count</th>\n",
       "      <td>115.00</td>\n",
       "      <td>115.00</td>\n",
       "      <td>115.00</td>\n",
       "      <td>115.00</td>\n",
       "      <td>115.00</td>\n",
       "    </tr>\n",
       "    <tr>\n",
       "      <th>mean</th>\n",
       "      <td>57.00</td>\n",
       "      <td>1204.42</td>\n",
       "      <td>221.37</td>\n",
       "      <td>10.08</td>\n",
       "      <td>301.10</td>\n",
       "    </tr>\n",
       "    <tr>\n",
       "      <th>std</th>\n",
       "      <td>33.34</td>\n",
       "      <td>904.90</td>\n",
       "      <td>167.21</td>\n",
       "      <td>7.61</td>\n",
       "      <td>226.22</td>\n",
       "    </tr>\n",
       "    <tr>\n",
       "      <th>min</th>\n",
       "      <td>0.00</td>\n",
       "      <td>0.00</td>\n",
       "      <td>1.00</td>\n",
       "      <td>1.00</td>\n",
       "      <td>0.00</td>\n",
       "    </tr>\n",
       "    <tr>\n",
       "      <th>25%</th>\n",
       "      <td>28.50</td>\n",
       "      <td>282.00</td>\n",
       "      <td>52.00</td>\n",
       "      <td>3.00</td>\n",
       "      <td>70.50</td>\n",
       "    </tr>\n",
       "    <tr>\n",
       "      <th>50%</th>\n",
       "      <td>57.00</td>\n",
       "      <td>1223.00</td>\n",
       "      <td>225.00</td>\n",
       "      <td>10.00</td>\n",
       "      <td>305.75</td>\n",
       "    </tr>\n",
       "    <tr>\n",
       "      <th>75%</th>\n",
       "      <td>85.50</td>\n",
       "      <td>2053.50</td>\n",
       "      <td>370.00</td>\n",
       "      <td>16.00</td>\n",
       "      <td>513.38</td>\n",
       "    </tr>\n",
       "    <tr>\n",
       "      <th>max</th>\n",
       "      <td>114.00</td>\n",
       "      <td>2710.00</td>\n",
       "      <td>504.00</td>\n",
       "      <td>27.00</td>\n",
       "      <td>677.50</td>\n",
       "    </tr>\n",
       "  </tbody>\n",
       "</table>\n",
       "</div>"
      ],
      "text/plain": [
       "       page_number  page_char_count  page_word_count  page_sentence_count_raw  \\\n",
       "count       115.00           115.00           115.00                   115.00   \n",
       "mean         57.00          1204.42           221.37                    10.08   \n",
       "std          33.34           904.90           167.21                     7.61   \n",
       "min           0.00             0.00             1.00                     1.00   \n",
       "25%          28.50           282.00            52.00                     3.00   \n",
       "50%          57.00          1223.00           225.00                    10.00   \n",
       "75%          85.50          2053.50           370.00                    16.00   \n",
       "max         114.00          2710.00           504.00                    27.00   \n",
       "\n",
       "       page_token_count  \n",
       "count            115.00  \n",
       "mean             301.10  \n",
       "std              226.22  \n",
       "min                0.00  \n",
       "25%               70.50  \n",
       "50%              305.75  \n",
       "75%              513.38  \n",
       "max              677.50  "
      ]
     },
     "execution_count": 36,
     "metadata": {},
     "output_type": "execute_result"
    }
   ],
   "source": [
    "# Get stats\n",
    "df.describe().round(2)"
   ]
  },
  {
   "cell_type": "code",
   "execution_count": 37,
   "metadata": {},
   "outputs": [],
   "source": [
    "from spacy.lang.en import English # see https://spacy.io/usage for install instructions"
   ]
  },
  {
   "cell_type": "code",
   "execution_count": 38,
   "metadata": {},
   "outputs": [
    {
     "data": {
      "application/vnd.jupyter.widget-view+json": {
       "model_id": "e2c2eb404c804b0682ef4832e35a66ff",
       "version_major": 2,
       "version_minor": 0
      },
      "text/plain": [
       "  0%|          | 0/115 [00:00<?, ?it/s]"
      ]
     },
     "metadata": {},
     "output_type": "display_data"
    }
   ],
   "source": [
    "nlp = English()\n",
    "\n",
    "# Add a sentencizer pipeline, see https://spacy.io/api/sentencizer/ \n",
    "nlp.add_pipe(\"sentencizer\")\n",
    "\n",
    "for item in tqdm(pages_and_texts):\n",
    "    item[\"sentences\"] = list(nlp(item[\"text\"]).sents)\n",
    "    \n",
    "    # Make sure all sentences are strings\n",
    "    item[\"sentences\"] = [str(sentence) for sentence in item[\"sentences\"]]\n",
    "    \n",
    "    # Count the sentences \n",
    "    item[\"page_sentence_count_spacy\"] = len(item[\"sentences\"])"
   ]
  },
  {
   "cell_type": "code",
   "execution_count": 39,
   "metadata": {},
   "outputs": [
    {
     "data": {
      "text/plain": [
       "[{'page_number': 11,\n",
       "  'page_char_count': 242,\n",
       "  'page_word_count': 42,\n",
       "  'page_sentence_count_raw': 3,\n",
       "  'page_token_count': 60.5,\n",
       "  'text': 'A golfer’s power is originated and generated by the movements of the body. This power is transferred from the player’s body to his arms and then to his hands. It multiplies itself enormously with every transfer, like a chain action in physics',\n",
       "  'sentences': ['A golfer’s power is originated and generated by the movements of the body.',\n",
       "   'This power is transferred from the player’s body to his arms and then to his hands.',\n",
       "   'It multiplies itself enormously with every transfer, like a chain action in physics'],\n",
       "  'page_sentence_count_spacy': 3}]"
      ]
     },
     "execution_count": 39,
     "metadata": {},
     "output_type": "execute_result"
    }
   ],
   "source": [
    "# Inspect an example\n",
    "random.sample(pages_and_texts, k=1)"
   ]
  },
  {
   "cell_type": "markdown",
   "metadata": {},
   "source": [
    "## Proposition based Chunking"
   ]
  },
  {
   "cell_type": "code",
   "execution_count": 40,
   "metadata": {},
   "outputs": [],
   "source": [
    "from langchain.output_parsers.openai_tools import JsonOutputToolsParser\n",
    "from langchain_openai import ChatOpenAI\n",
    "from langchain_core.prompts import ChatPromptTemplate\n",
    "from langchain_core.runnables import RunnableLambda\n",
    "from langchain.chains import create_extraction_chain\n",
    "from typing import Optional, List\n",
    "from langchain.chains import create_extraction_chain_pydantic\n",
    "from langchain_core.pydantic_v1 import BaseModel\n",
    "from langchain import hub"
   ]
  },
  {
   "cell_type": "code",
   "execution_count": 45,
   "metadata": {},
   "outputs": [
    {
     "data": {
      "text/plain": [
       "True"
      ]
     },
     "execution_count": 45,
     "metadata": {},
     "output_type": "execute_result"
    }
   ],
   "source": [
    "from dotenv import load_dotenv\n",
    "load_dotenv()"
   ]
  },
  {
   "cell_type": "code",
   "execution_count": 46,
   "metadata": {},
   "outputs": [],
   "source": [
    "from agentic_chunker import AgenticChunker\n",
    "ac = AgenticChunker()"
   ]
  },
  {
   "cell_type": "code",
   "execution_count": 48,
   "metadata": {},
   "outputs": [
    {
     "name": "stderr",
     "output_type": "stream",
     "text": [
      "c:\\Users\\simon\\miniconda3\\envs\\work\\Lib\\site-packages\\langchain_core\\_api\\deprecation.py:139: LangChainDeprecationWarning: LangChain has introduced a method called `with_structured_output` thatis available on ChatModels capable of tool calling.You can read more about the method here: <https://python.langchain.com/docs/modules/model_io/chat/structured_output/>. Please follow our extraction use case documentation for more guidelineson how to do information extraction with LLMs.<https://python.langchain.com/docs/use_cases/extraction/>. If you notice other issues, please provide feedback here:<https://github.com/langchain-ai/langchain/discussions/18154>\n",
      "  warn_deprecated(\n"
     ]
    }
   ],
   "source": [
    "obj = hub.pull(\"wfh/proposal-indexing\")\n",
    "llm = ChatOpenAI(model='gpt-3.5-turbo')\n",
    "runnable = obj | llm\n",
    "\n",
    "class Sentences(BaseModel):\n",
    "    sentences: List[str]\n",
    "    \n",
    "# Extraction\n",
    "extraction_chain = create_extraction_chain_pydantic(pydantic_schema=Sentences, llm=llm)\n",
    "def get_propositions(text):\n",
    "    runnable_output = runnable.invoke({\n",
    "    \t\"input\": text\n",
    "    }).content\n",
    "    propositions = extraction_chain.invoke(runnable_output)[\"text\"][0].sentences\n",
    "    return propositions"
   ]
  },
  {
   "cell_type": "code",
   "execution_count": 57,
   "metadata": {},
   "outputs": [
    {
     "data": {
      "text/plain": [
       "{'page_number': 32,\n",
       " 'page_char_count': 443,\n",
       " 'page_word_count': 82,\n",
       " 'page_sentence_count_raw': 2,\n",
       " 'page_token_count': 110.75,\n",
       " 'text': 'The feet should be set apart the width of the shoulders when the golfer prepares to play a standard five-iron shot Some tournament-caliber golfers, as you may have noticed, choose to stand with the toes of both feet pointed out. It has always struck me that these players succeed in spite of the placement of their feet, for I have been convinced since my early days in golf that THERE IS ONE CORRECT BASIC STANCE: THE RIGHT FOOT IS AT A RIGHT',\n",
       " 'sentences': ['The feet should be set apart the width of the shoulders when the golfer prepares to play a standard five-iron shot Some tournament-caliber golfers, as you may have noticed, choose to stand with the toes of both feet pointed out.',\n",
       "  'It has always struck me that these players succeed in spite of the placement of their feet, for I have been convinced since my early days in golf that THERE IS ONE CORRECT BASIC STANCE: THE RIGHT FOOT IS AT A RIGHT'],\n",
       " 'page_sentence_count_spacy': 2}"
      ]
     },
     "execution_count": 57,
     "metadata": {},
     "output_type": "execute_result"
    }
   ],
   "source": [
    "pages_and_texts[32]"
   ]
  },
  {
   "cell_type": "code",
   "execution_count": 50,
   "metadata": {},
   "outputs": [
    {
     "data": {
      "text/html": [
       "<pre style=\"white-space:pre;overflow-x:auto;line-height:normal;font-family:Menlo,'DejaVu Sans Mono',consolas,'Courier New',monospace\">Done with <span style=\"color: #008080; text-decoration-color: #008080; font-weight: bold\">0</span>\n",
       "</pre>\n"
      ],
      "text/plain": [
       "Done with \u001b[1;36m0\u001b[0m\n"
      ]
     },
     "metadata": {},
     "output_type": "display_data"
    },
    {
     "data": {
      "text/html": [
       "<pre style=\"white-space:pre;overflow-x:auto;line-height:normal;font-family:Menlo,'DejaVu Sans Mono',consolas,'Courier New',monospace\">You have <span style=\"color: #008080; text-decoration-color: #008080; font-weight: bold\">3</span> propositions\n",
       "</pre>\n"
      ],
      "text/plain": [
       "You have \u001b[1;36m3\u001b[0m propositions\n"
      ]
     },
     "metadata": {},
     "output_type": "display_data"
    },
    {
     "data": {
      "text/html": [
       "<pre style=\"white-space:pre;overflow-x:auto;line-height:normal;font-family:Menlo,'DejaVu Sans Mono',consolas,'Courier New',monospace\"><span style=\"font-weight: bold\">[</span>\n",
       "    <span style=\"color: #008000; text-decoration-color: #008000\">'Text splitting is a critical feature in LangChain.'</span>,\n",
       "    <span style=\"color: #008000; text-decoration-color: #008000\">'Text splitting facilitates the division of large texts into smaller, manageable segments.'</span>,\n",
       "    <span style=\"color: #008000; text-decoration-color: #008000\">'LangChain is a tool that incorporates the critical feature of text splitting.'</span>\n",
       "<span style=\"font-weight: bold\">]</span>\n",
       "</pre>\n"
      ],
      "text/plain": [
       "\u001b[1m[\u001b[0m\n",
       "    \u001b[32m'Text splitting is a critical feature in LangChain.'\u001b[0m,\n",
       "    \u001b[32m'Text splitting facilitates the division of large texts into smaller, manageable segments.'\u001b[0m,\n",
       "    \u001b[32m'LangChain is a tool that incorporates the critical feature of text splitting.'\u001b[0m\n",
       "\u001b[1m]\u001b[0m\n"
      ]
     },
     "metadata": {},
     "output_type": "display_data"
    }
   ],
   "source": [
    "# text = \"Text splitting in LangChain is a critical feature that facilitates the division of large texts into smaller, manageable segments. \"\n",
    "# paragraphs = text.split(\"\\n\\n\")\n",
    "text_propositions = []\n",
    "for i, page in enumerate(pages_and_texts):\n",
    "    propositions = get_propositions(page[\"text\"])\n",
    "    text_propositions.extend(propositions)\n",
    "    print (f\"Done with {i}\")\n",
    "\n",
    "print (f\"You have {len(text_propositions)} propositions\")\n",
    "print(text_propositions[:10])"
   ]
  }
 ],
 "metadata": {
  "kernelspec": {
   "display_name": "work",
   "language": "python",
   "name": "python3"
  },
  "language_info": {
   "codemirror_mode": {
    "name": "ipython",
    "version": 3
   },
   "file_extension": ".py",
   "mimetype": "text/x-python",
   "name": "python",
   "nbconvert_exporter": "python",
   "pygments_lexer": "ipython3",
   "version": "3.12.3"
  }
 },
 "nbformat": 4,
 "nbformat_minor": 2
}
