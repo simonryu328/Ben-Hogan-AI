{
 "cells": [
  {
   "cell_type": "markdown",
   "metadata": {},
   "source": [
    "# Image Embeddings"
   ]
  },
  {
   "cell_type": "code",
   "execution_count": 1,
   "metadata": {},
   "outputs": [
    {
     "name": "stderr",
     "output_type": "stream",
     "text": [
      "c:\\Users\\simon\\miniconda3\\envs\\work\\Lib\\site-packages\\huggingface_hub\\file_download.py:1132: FutureWarning: `resume_download` is deprecated and will be removed in version 1.0.0. Downloads always resume when possible. If you want to force a new download, use `force_download=True`.\n",
      "  warnings.warn(\n",
      "c:\\Users\\simon\\miniconda3\\envs\\work\\Lib\\site-packages\\huggingface_hub\\file_download.py:1132: FutureWarning: `resume_download` is deprecated and will be removed in version 1.0.0. Downloads always resume when possible. If you want to force a new download, use `force_download=True`.\n",
      "  warnings.warn(\n",
      "Could not find image processor class in the image processor config or the model config. Loading based on pattern matching with the model's feature extractor configuration. Please open a PR/issue to update `preprocessor_config.json` to use `image_processor_type` instead of `feature_extractor_type`. This warning will be removed in v4.40.\n",
      "c:\\Users\\simon\\miniconda3\\envs\\work\\Lib\\site-packages\\huggingface_hub\\file_download.py:1132: FutureWarning: `resume_download` is deprecated and will be removed in version 1.0.0. Downloads always resume when possible. If you want to force a new download, use `force_download=True`.\n",
      "  warnings.warn(\n"
     ]
    }
   ],
   "source": [
    "from datasets import load_dataset\n",
    "\n",
    "ds = load_dataset(\"jmhessel/newyorker_caption_contest\", \"explanation\")\n",
    "\n",
    "import pandas as pd\n",
    "import os\n",
    "\n",
    "import torch\n",
    "from PIL import Image\n",
    "from transformers import AutoImageProcessor, AutoModel, AutoTokenizer\n",
    "import faiss\n",
    "import numpy as np\n",
    "\n",
    "device = torch.device(\"cuda\" if torch.cuda.is_available() else \"cpu\")\n",
    "model = AutoModel.from_pretrained(\"openai/clip-vit-base-patch16\").to(device)\n",
    "processor = AutoImageProcessor.from_pretrained(\"openai/clip-vit-base-patch16\")\n",
    "tokenizer = AutoTokenizer.from_pretrained(\"openai/clip-vit-base-patch16\")\n",
    "\n",
    "df = pd.read_csv(\"../helpers/enhanced_image_descriptions.csv\")\n",
    "\n",
    "from torch.utils.data import Dataset\n",
    "\n",
    "class GolfDataset(Dataset):\n",
    "    def __init__(self, dataframe, tokenizer_name=\"openai/clip-vit-base-patch16\"):\n",
    "        self.dataframe = dataframe\n",
    "        self.tokenizer = AutoTokenizer.from_pretrained(tokenizer_name)\n",
    "\n",
    "    def __len__(self):\n",
    "        return len(self.dataframe)\n",
    "\n",
    "    def __getitem__(self, idx):\n",
    "        description = self.dataframe.iloc[idx, 1]\n",
    "        description_tensor = self.tokenizer(description, truncation=True, return_tensors=\"pt\")[\"input_ids\"].squeeze(0)\n",
    "        return description_tensor\n",
    "\n",
    "# Create the dataset\n",
    "golf_dataset = GolfDataset(dataframe=df)\n"
   ]
  },
  {
   "cell_type": "code",
   "execution_count": 2,
   "metadata": {},
   "outputs": [
    {
     "name": "stdout",
     "output_type": "stream",
     "text": [
      "(43, 512)\n"
     ]
    }
   ],
   "source": [
    "def create_embeddings(dataset, model, device):\n",
    "    embeddings = []\n",
    "    for i in range(len(dataset)):\n",
    "        description_tensor = dataset[i].unsqueeze(0).to(device)  # Add batch dimension and move to device\n",
    "        with torch.no_grad():\n",
    "            embedding = model.get_text_features(description_tensor)[0].detach().cpu().numpy()\n",
    "        embeddings.append(embedding)\n",
    "    return np.array(embeddings)\n",
    "\n",
    "# Create embeddings\n",
    "embeddings = create_embeddings(golf_dataset, model, device)\n",
    "\n",
    "# Example of how to access data\n",
    "print(embeddings.shape)  # Should be (number_of_samples, embedding_dim)"
   ]
  },
  {
   "cell_type": "code",
   "execution_count": 43,
   "metadata": {},
   "outputs": [],
   "source": [
    "# Step 2: Initialize FAISS index\n",
    "dimension = embeddings.shape[1]  # Get the dimension of embeddings\n",
    "index = faiss.IndexFlatL2(dimension)  # Create FAISS index\n",
    "index.add(embeddings)  # Add embeddings to the index\n",
    "\n",
    "# Step 3: Query the dataset with a text prompt\n",
    "def query_with_prompt(prompt, model, tokenizer, index, dataframe, image_dir, k=1):\n",
    "    # Get prompt embedding\n",
    "    prompt_embedding = (\n",
    "        model.get_text_features(**tokenizer([prompt], return_tensors=\"pt\", truncation=True).to(device))[0]\n",
    "        .detach()\n",
    "        .cpu()\n",
    "        .numpy()\n",
    "    )\n",
    "\n",
    "    # Find nearest embeddings\n",
    "    distances, indices = index.search(np.array([prompt_embedding]), k)\n",
    "    matched_indices = indices[0]\n",
    "\n",
    "    print(distances)\n",
    "\n",
    "    # Retrieve matched image paths and descriptions\n",
    "    matched_images = [os.path.join(image_dir, dataframe.iloc[idx, 0]) for idx in matched_indices]\n",
    "    matched_descriptions = [dataframe.iloc[idx, 1] for idx in matched_indices]\n",
    "\n",
    "    return matched_images, matched_descriptions\n",
    "\n",
    "# Step 4: Display the matched image\n",
    "def display_image(image_path):\n",
    "    image = Image.open(image_path).convert(\"RGB\")\n",
    "    width = 200\n",
    "    ratio = width / float(image.size[0])\n",
    "    height = int((float(image.size[1]) * float(ratio)))\n",
    "    img = image.resize((width, height), Image.Resampling.LANCZOS)\n",
    "    img.show()"
   ]
  },
  {
   "cell_type": "markdown",
   "metadata": {},
   "source": [
    "# Text Embeddings"
   ]
  },
  {
   "cell_type": "code",
   "execution_count": 9,
   "metadata": {},
   "outputs": [],
   "source": [
    "# Load Chunks\n",
    "import pickle\n",
    "with open('chunks.pkl', 'rb') as file:\n",
    "    chunks = pickle.load(file)\n",
    "\n",
    "chunk_joined = []\n",
    "for chunk in chunks:\n",
    "    chunk_joined.append(\" \".join(chunk))\n"
   ]
  },
  {
   "cell_type": "code",
   "execution_count": 10,
   "metadata": {},
   "outputs": [],
   "source": [
    "from rich import print\n",
    "from langchain.docstore.document import Document\n",
    "from langchain_community.chat_models import ChatOllama\n",
    "from langchain_community.vectorstores import Chroma\n",
    "from langchain_community.embeddings import OllamaEmbeddings\n",
    "from langchain_core.runnables import RunnablePassthrough\n",
    "from langchain_core.output_parsers import StrOutputParser\n",
    "from langchain_core.prompts import ChatPromptTemplate\n",
    "\n",
    "local_llm = ChatOllama(model=\"mistral\")\n",
    "\n",
    "# RAG\n",
    "def rag(chunks, collection_name):\n",
    "    vectorstore = Chroma.from_documents(\n",
    "        documents=documents,\n",
    "        collection_name=collection_name,\n",
    "        embedding=OllamaEmbeddings(model='nomic-embed-text'),\n",
    "    )\n",
    "    retriever = vectorstore.as_retriever()\n",
    "\n",
    "    prompt_template = \"\"\"Answer the question based only on the following context:\n",
    "    {context}\n",
    "    Question: {question}\n",
    "    \"\"\"\n",
    "    prompt = ChatPromptTemplate.from_template(prompt_template)\n",
    "\n",
    "    chain = (\n",
    "        {\"context\": retriever, \"question\": RunnablePassthrough()}\n",
    "        | prompt\n",
    "        | local_llm\n",
    "        | StrOutputParser()\n",
    "    )\n",
    "    result = chain.invoke(\"How should the wrist be positioned during impact?\")\n",
    "    print(result)"
   ]
  },
  {
   "cell_type": "code",
   "execution_count": 11,
   "metadata": {},
   "outputs": [],
   "source": [
    "documents = [Document(page_content=chunk, metadata={\"source\": \"local\"}) for chunk in chunk_joined]\n",
    "vectorstore = Chroma.from_documents(\n",
    "    documents=documents,\n",
    "    collection_name=\"agentic-chunks\",\n",
    "    embedding=OllamaEmbeddings(model='nomic-embed-text'),\n",
    ")\n",
    "retriever = vectorstore.as_retriever()"
   ]
  },
  {
   "cell_type": "code",
   "execution_count": 88,
   "metadata": {},
   "outputs": [
    {
     "data": {
      "text/html": [
       "<pre style=\"white-space:pre;overflow-x:auto;line-height:normal;font-family:Menlo,'DejaVu Sans Mono',consolas,'Courier New',monospace\">\n",
       "<span style=\"color: #008000; text-decoration-color: #008000\">\"The left wrist is a crucial component of the golf swing. It should remain in a supinated position throughout the </span>\n",
       "<span style=\"color: #008000; text-decoration-color: #008000\">swing. This means that the back of the left hand should be facing towards the target at impact. The left wrist </span>\n",
       "<span style=\"color: #008000; text-decoration-color: #008000\">should not start to pronate, or rotate towards the ground, before impact as this can cause a variety of errors. </span>\n",
       "<span style=\"color: #008000; text-decoration-color: #008000\">Instead, the left wrist should continue to supinate throughout the rest of the swing, creating a wider arc and </span>\n",
       "<span style=\"color: #008000; text-decoration-color: #008000\">allowing for maximum clubhead speed. This position also ensures that the left hand does not check or interrupt the </span>\n",
       "<span style=\"color: #008000; text-decoration-color: #008000\">speed of the clubhead, leading to a more consistent and powerful strike. Remember, every good golfer maintains </span>\n",
       "<span style=\"color: #008000; text-decoration-color: #008000\">their left wrist in this supinated position at impact.\"</span>\n",
       "</pre>\n"
      ],
      "text/plain": [
       "\n",
       "\u001b[32m\"The left wrist is a crucial component of the golf swing. It should remain in a supinated position throughout the \u001b[0m\n",
       "\u001b[32mswing. This means that the back of the left hand should be facing towards the target at impact. The left wrist \u001b[0m\n",
       "\u001b[32mshould not start to pronate, or rotate towards the ground, before impact as this can cause a variety of errors. \u001b[0m\n",
       "\u001b[32mInstead, the left wrist should continue to supinate throughout the rest of the swing, creating a wider arc and \u001b[0m\n",
       "\u001b[32mallowing for maximum clubhead speed. This position also ensures that the left hand does not check or interrupt the \u001b[0m\n",
       "\u001b[32mspeed of the clubhead, leading to a more consistent and powerful strike. Remember, every good golfer maintains \u001b[0m\n",
       "\u001b[32mtheir left wrist in this supinated position at impact.\"\u001b[0m\n"
      ]
     },
     "metadata": {},
     "output_type": "display_data"
    }
   ],
   "source": [
    "prompt_template = \"\"\"\n",
    "### Ben Hogan Chatbot Instruction\n",
    "\n",
    "**Role:** You are Ben Hogan, the legendary golfer, known for your precise ball-striking, meticulous approach to the game, and deep understanding of golf fundamentals.\n",
    "\n",
    "**Tone:** Calm, authoritative, encouraging, and reflective of the 1950s era.\n",
    "\n",
    "**Objective:** Answer user questions about golf, specifically focusing on golf swing techniques, mindset, philosophy, and love for the game, based on the book \"Five Lessons: The Fundamentals of Golf.\"\n",
    "\n",
    "#### Specific Instructions\n",
    "\n",
    "**1. Provide Expert Golf Swing Advice:**\n",
    "   - Break down the golf swing into its fundamental components: grip, stance and posture, the first part of the swing, and the second part of the swing.\n",
    "   - Use detailed explanations from the book \"Five Lessons: The Fundamentals of Golf.\"\n",
    "   - Example:\n",
    "     - User: \"How should I hold the club to improve my grip?\"\n",
    "     - \"The grip is the foundation of your swing. Hold the club in your fingers, not your palm. The V formed by your thumb and index finger should point towards your right shoulder. A proper grip ensures control and consistency.\"\n",
    "\n",
    "**2. Share Mindset and Philosophy:**\n",
    "   - Discuss the mental approach to golf, emphasizing focus, discipline, and the importance of practice.\n",
    "   - Share personal anecdotes and insights from your career.\n",
    "   - Example:\n",
    "     - User: \"What mindset should I have when approaching a difficult shot?\"\n",
    "     - \"Golf is as much a mental game as it is a physical one. Approach each shot with confidence and focus. Visualize the perfect shot, trust your swing, and stay calm. Every challenge is an opportunity to improve.\"\n",
    "\n",
    "**3. Encourage and Motivate:**\n",
    "   - Provide motivational support and encouragement.\n",
    "   - Reinforce the idea that improvement comes with practice and dedication.\n",
    "   - Highlight the joy and fulfillment of playing golf.\n",
    "   - Example:\n",
    "     - User: \"How important is practice in becoming a good golfer?\"\n",
    "     - \"Practice is the bedrock of success in golf. Consistent, deliberate practice hones your skills and builds muscle memory. Dedication to practice will pay off on the course.\"\n",
    "\n",
    "**4. Reflect on Philosophy and Love for Golf:**\n",
    "   - Discuss your philosophy on golf and life.\n",
    "   - Share why you love golf and what it means to you.\n",
    "   - Example:\n",
    "     - User: \"What philosophy did you follow throughout your golf career?\"\n",
    "     - \"My philosophy was simple: strive for perfection in every aspect of the game. Understand the fundamentals, work tirelessly to improve, and never settle for mediocrity. Golf is a journey of continuous learning and growth.\"\n",
    "\n",
    "**Guidelines:**\n",
    "- Always base responses on the teachings from \"Five Lessons: The Fundamentals of Golf.\"\n",
    "- Be informative, supportive, and engaging.\n",
    "- Use quotes and references from your book to lend authenticity and depth to your answers.\n",
    "\n",
    "Answer the question based on the following context:\n",
    "{context}\n",
    "Question: {question}\n",
    "\"\"\"\n",
    "\n",
    "system_prompt = ChatPromptTemplate.from_template(prompt_template)\n",
    "\n",
    "# local_llm = ChatOllama(model=\"mistral\")\n",
    "# chain = (\n",
    "#     {\"context\": retriever, \"question\": RunnablePassthrough()}\n",
    "#     | prompt\n",
    "#     | local_llm\n",
    "#     | StrOutputParser()\n",
    "# )\n",
    "\n",
    "from langchain_openai import OpenAI\n",
    "import dotenv\n",
    "dotenv.load_dotenv()\n",
    "\n",
    "from langchain_core.runnables import RunnableLambda\n",
    "\n",
    "def inspect(state):\n",
    "    \"\"\"Print the state passed between Runnables in a langchain and pass it on\"\"\"\n",
    "    print(state)\n",
    "    return state\n",
    "\n",
    "llm = OpenAI(model_name=\"gpt-3.5-turbo-instruct\")\n",
    "\n",
    "chain = (\n",
    "    {\"context\": retriever, \"question\": RunnablePassthrough()}\n",
    "    # | RunnableLambda(inspect)\n",
    "    | system_prompt\n",
    "    | llm\n",
    "    | StrOutputParser()\n",
    ")\n",
    "question = \"How should left wrist be positioned throughout the golf swing?\"\n",
    "initial_result = chain.invoke(question)\n",
    "print(initial_result)"
   ]
  },
  {
   "cell_type": "code",
   "execution_count": 89,
   "metadata": {},
   "outputs": [
    {
     "data": {
      "text/html": [
       "<pre style=\"white-space:pre;overflow-x:auto;line-height:normal;font-family:Menlo,'DejaVu Sans Mono',consolas,'Courier New',monospace\"><span style=\"font-weight: bold\">[[</span><span style=\"color: #008080; text-decoration-color: #008080; font-weight: bold\">11.733813</span> <span style=\"color: #008080; text-decoration-color: #008080; font-weight: bold\">13.392943</span> <span style=\"color: #008080; text-decoration-color: #008080; font-weight: bold\">13.729967</span><span style=\"font-weight: bold\">]]</span>\n",
       "</pre>\n"
      ],
      "text/plain": [
       "\u001b[1m[\u001b[0m\u001b[1m[\u001b[0m\u001b[1;36m11.733813\u001b[0m \u001b[1;36m13.392943\u001b[0m \u001b[1;36m13.729967\u001b[0m\u001b[1m]\u001b[0m\u001b[1m]\u001b[0m\n"
      ]
     },
     "metadata": {},
     "output_type": "display_data"
    },
    {
     "data": {
      "text/html": [
       "<pre style=\"white-space:pre;overflow-x:auto;line-height:normal;font-family:Menlo,'DejaVu Sans Mono',consolas,'Courier New',monospace\"><span style=\"font-weight: bold\">[</span>\n",
       "    <span style=\"color: #008000; text-decoration-color: #008000\">\"Correct left arm position at address (front view): The left arm should form a straight line from shoulder to </span>\n",
       "<span style=\"color: #008000; text-decoration-color: #008000\">club, creating the optimal radius for the swing arc. This promotes a one-piece takeaway and helps maintain swing </span>\n",
       "<span style=\"color: #008000; text-decoration-color: #008000\">width. The left arm position influences the backswing plane and the club's path through impact. Avoid tension in </span>\n",
       "<span style=\"color: #008000; text-decoration-color: #008000\">the arms and shoulders, as this can restrict the turn and reduce power. This arm position works in conjunction with</span>\n",
       "<span style=\"color: #008000; text-decoration-color: #008000\">the proper grip and posture to establish a solid foundation for the swing.\"</span>,\n",
       "    <span style=\"color: #008000; text-decoration-color: #008000\">\"Top of backswing position: Illustration depicting the correct positioning at the completion of the backswing. </span>\n",
       "<span style=\"color: #008000; text-decoration-color: #008000\">The golfer's legs, hips, shoulders, arms, and hands are shown in proper alignment and tension. This coiled position</span>\n",
       "<span style=\"color: #008000; text-decoration-color: #008000\">stores potential energy and sets up the critical transition to the downswing. Key elements include a full shoulder </span>\n",
       "<span style=\"color: #008000; text-decoration-color: #008000\">turn, maintained spine angle, weight shifted to the inside of the back foot, and the club positioned on plane. The </span>\n",
       "<span style=\"color: #008000; text-decoration-color: #008000\">interrelation of these components at the top of the backswing is crucial for initiating a powerful, coordinated </span>\n",
       "<span style=\"color: #008000; text-decoration-color: #008000\">downswing sequence, leading to consistent and accurate ball-striking.\"</span>,\n",
       "    <span style=\"color: #008000; text-decoration-color: #008000\">\"This diagram illustrates the proper alignment of the backswing plane in golf. The plane is represented by a </span>\n",
       "<span style=\"color: #008000; text-decoration-color: #008000\">straight line extending from the golf ball through the golfer's shoulders at address. This visual aid is crucial </span>\n",
       "<span style=\"color: #008000; text-decoration-color: #008000\">for understanding the correct path the club should follow during the backswing. Key points of this backswing plane </span>\n",
       "<span style=\"color: #008000; text-decoration-color: #008000\">concept: Shoulder tilt: The shoulders should be tilted at the same angle as the club shaft at address, forming the </span>\n",
       "<span style=\"color: #008000; text-decoration-color: #008000\">base of the swing plane. Consistent angle: The plane remains constant throughout the backswing, promoting </span>\n",
       "<span style=\"color: #008000; text-decoration-color: #008000\">consistency and accuracy. Body rotation: The golfer's torso should rotate around this tilted axis during the </span>\n",
       "<span style=\"color: #008000; text-decoration-color: #008000\">backswing. Understanding and maintaining this plane helps golfers avoid common faults such as: An overly flat </span>\n",
       "<span style=\"color: #008000; text-decoration-color: #008000\">swing, leading to pushes and hooks. An overly upright swing, causing pulls and slices. Practicing with alignment </span>\n",
       "<span style=\"color: #008000; text-decoration-color: #008000\">rods or using video analysis can help golfers visualize and internalize this crucial swing plane concept.\"</span>\n",
       "<span style=\"font-weight: bold\">]</span>\n",
       "</pre>\n"
      ],
      "text/plain": [
       "\u001b[1m[\u001b[0m\n",
       "    \u001b[32m\"Correct left arm position at address \u001b[0m\u001b[32m(\u001b[0m\u001b[32mfront view\u001b[0m\u001b[32m)\u001b[0m\u001b[32m: The left arm should form a straight line from shoulder to \u001b[0m\n",
       "\u001b[32mclub, creating the optimal radius for the swing arc. This promotes a one-piece takeaway and helps maintain swing \u001b[0m\n",
       "\u001b[32mwidth. The left arm position influences the backswing plane and the club's path through impact. Avoid tension in \u001b[0m\n",
       "\u001b[32mthe arms and shoulders, as this can restrict the turn and reduce power. This arm position works in conjunction with\u001b[0m\n",
       "\u001b[32mthe proper grip and posture to establish a solid foundation for the swing.\"\u001b[0m,\n",
       "    \u001b[32m\"Top of backswing position: Illustration depicting the correct positioning at the completion of the backswing. \u001b[0m\n",
       "\u001b[32mThe golfer's legs, hips, shoulders, arms, and hands are shown in proper alignment and tension. This coiled position\u001b[0m\n",
       "\u001b[32mstores potential energy and sets up the critical transition to the downswing. Key elements include a full shoulder \u001b[0m\n",
       "\u001b[32mturn, maintained spine angle, weight shifted to the inside of the back foot, and the club positioned on plane. The \u001b[0m\n",
       "\u001b[32minterrelation of these components at the top of the backswing is crucial for initiating a powerful, coordinated \u001b[0m\n",
       "\u001b[32mdownswing sequence, leading to consistent and accurate ball-striking.\"\u001b[0m,\n",
       "    \u001b[32m\"This diagram illustrates the proper alignment of the backswing plane in golf. The plane is represented by a \u001b[0m\n",
       "\u001b[32mstraight line extending from the golf ball through the golfer's shoulders at address. This visual aid is crucial \u001b[0m\n",
       "\u001b[32mfor understanding the correct path the club should follow during the backswing. Key points of this backswing plane \u001b[0m\n",
       "\u001b[32mconcept: Shoulder tilt: The shoulders should be tilted at the same angle as the club shaft at address, forming the \u001b[0m\n",
       "\u001b[32mbase of the swing plane. Consistent angle: The plane remains constant throughout the backswing, promoting \u001b[0m\n",
       "\u001b[32mconsistency and accuracy. Body rotation: The golfer's torso should rotate around this tilted axis during the \u001b[0m\n",
       "\u001b[32mbackswing. Understanding and maintaining this plane helps golfers avoid common faults such as: An overly flat \u001b[0m\n",
       "\u001b[32mswing, leading to pushes and hooks. An overly upright swing, causing pulls and slices. Practicing with alignment \u001b[0m\n",
       "\u001b[32mrods or using video analysis can help golfers visualize and internalize this crucial swing plane concept.\"\u001b[0m\n",
       "\u001b[1m]\u001b[0m\n"
      ]
     },
     "metadata": {},
     "output_type": "display_data"
    }
   ],
   "source": [
    "# Example usage:\n",
    "image_dir = \"../data/images\"  # Change this to the actual path where images are stored\n",
    "prompt = result\n",
    "matched_images, matched_descriptions = query_with_prompt(prompt, model, tokenizer, index, df, image_dir, k=3)\n",
    "\n",
    "print(matched_descriptions)\n",
    "display_image(matched_images[0])"
   ]
  },
  {
   "cell_type": "code",
   "execution_count": 94,
   "metadata": {},
   "outputs": [
    {
     "data": {
      "text/html": [
       "<pre style=\"white-space:pre;overflow-x:auto;line-height:normal;font-family:Menlo,'DejaVu Sans Mono',consolas,'Courier New',monospace\">\n",
       "<span style=\"color: #008000; text-decoration-color: #008000\">\"The left wrist is a crucial component of the golf swing. It should remain in a supinated position throughout the </span>\n",
       "<span style=\"color: #008000; text-decoration-color: #008000\">swing. This means that the back of the left hand should be facing towards the target at impact. The left wrist </span>\n",
       "<span style=\"color: #008000; text-decoration-color: #008000\">should not start to pronate, or rotate towards the ground, before impact as this can cause a variety of errors. </span>\n",
       "<span style=\"color: #008000; text-decoration-color: #008000\">Instead, the left wrist should continue to supinate throughout the rest of the swing, creating a wider arc and </span>\n",
       "<span style=\"color: #008000; text-decoration-color: #008000\">allowing for maximum clubhead speed. This position also ensures that the left hand does not check or interrupt the </span>\n",
       "<span style=\"color: #008000; text-decoration-color: #008000\">speed of the clubhead, leading to a more consistent and powerful strike. Remember, every good golfer maintains </span>\n",
       "<span style=\"color: #008000; text-decoration-color: #008000\">their left wrist in this supinated position at impact.\"</span>\n",
       "</pre>\n"
      ],
      "text/plain": [
       "\n",
       "\u001b[32m\"The left wrist is a crucial component of the golf swing. It should remain in a supinated position throughout the \u001b[0m\n",
       "\u001b[32mswing. This means that the back of the left hand should be facing towards the target at impact. The left wrist \u001b[0m\n",
       "\u001b[32mshould not start to pronate, or rotate towards the ground, before impact as this can cause a variety of errors. \u001b[0m\n",
       "\u001b[32mInstead, the left wrist should continue to supinate throughout the rest of the swing, creating a wider arc and \u001b[0m\n",
       "\u001b[32mallowing for maximum clubhead speed. This position also ensures that the left hand does not check or interrupt the \u001b[0m\n",
       "\u001b[32mspeed of the clubhead, leading to a more consistent and powerful strike. Remember, every good golfer maintains \u001b[0m\n",
       "\u001b[32mtheir left wrist in this supinated position at impact.\"\u001b[0m\n"
      ]
     },
     "metadata": {},
     "output_type": "display_data"
    },
    {
     "data": {
      "text/html": [
       "<pre style=\"white-space:pre;overflow-x:auto;line-height:normal;font-family:Menlo,'DejaVu Sans Mono',consolas,'Courier New',monospace\">\n",
       "To illustrate this concept, let's look at a diagram from my book:\n",
       "\n",
       "<span style=\"font-weight: bold\">[</span>DIAGRAM INSERTED HERE<span style=\"font-weight: bold\">]</span>\n",
       "\n",
       "This diagram shows the correct left arm position at address, which is crucial for maintaining a supinated left \n",
       "wrist throughout the golf swing. By forming a straight line from shoulder to club, the left arm creates the optimal\n",
       "radius for the swing arc. This promotes a one-piece takeaway and helps maintain swing width, allowing for maximum \n",
       "clubhead speed. The left arm position also influences the backswing plane and the club's path through impact. \n",
       "Remember, a proper left arm position, along with a supinated left wrist, is essential for a consistent and powerful\n",
       "golf swing.\n",
       "</pre>\n"
      ],
      "text/plain": [
       "\n",
       "To illustrate this concept, let's look at a diagram from my book:\n",
       "\n",
       "\u001b[1m[\u001b[0mDIAGRAM INSERTED HERE\u001b[1m]\u001b[0m\n",
       "\n",
       "This diagram shows the correct left arm position at address, which is crucial for maintaining a supinated left \n",
       "wrist throughout the golf swing. By forming a straight line from shoulder to club, the left arm creates the optimal\n",
       "radius for the swing arc. This promotes a one-piece takeaway and helps maintain swing width, allowing for maximum \n",
       "clubhead speed. The left arm position also influences the backswing plane and the club's path through impact. \n",
       "Remember, a proper left arm position, along with a supinated left wrist, is essential for a consistent and powerful\n",
       "golf swing.\n"
      ]
     },
     "metadata": {},
     "output_type": "display_data"
    }
   ],
   "source": [
    "prompt_template = \"\"\"\n",
    "You are a golf instruction assistant. Combine the initial answer and diagram description into a concise, comprehensive response. Follow these rules strictly:\n",
    "\n",
    "1. First say: \"To illustrate this concept, let's look at a diagram from my book:\"\n",
    "2. Insert: [DIAGRAM INSERTED HERE]\n",
    "3. Briefly explain the diagram, adding only new information not covered in the initial answer.\n",
    "4. Ensure that the transition between the initial answer and the diagram explanation feels natural and cohesive. You should explain how the diagram helps support your initial answer\n",
    "4. Keep the total response under 100 words.\n",
    "5. Do not use phrases like \"As you can see\", \"But why is this important?\", or \"As I mentioned\". Keep it concise\n",
    "7. Maintain a direct, instructional tone throughout.\n",
    "\n",
    "Example 1:\n",
    "User Question: How important is follow-through in a golf swing?\n",
    "Initial Answer: The follow-through is crucial in a golf swing. It ensures that you complete your swing with good balance and full extension, which helps maximize power and accuracy. A proper follow-through also indicates that you've maintained the correct swing path through impact.\n",
    "\n",
    "Diagram Description: Diagram showing the correct spine angle at address, with the upper body tilted slightly forward and the lower body in an athletic stance.\n",
    "\n",
    "Combined Response: The follow-through is crucial in a golf swing. It ensures that you complete your swing with good balance and full extension, which helps maximize power and accuracy. A proper follow-through also indicates that you've maintained the correct swing path through impact. To support this concept, let's look at a diagram from my book:\n",
    "\n",
    "[DIAGRAM INSERTED HERE]\n",
    "\n",
    "While this diagram shows the correct spine angle at address, it's highly relevant to achieving a proper follow-through. The slight forward tilt of the upper body and athletic stance of the lower body set up the foundation for a good follow-through. This initial posture allows you to maintain balance throughout the swing, enabling a full, extended follow-through. Remember, a good swing starts with proper setup, which directly impacts your ability to execute a effective follow-through.\n",
    "\n",
    "Example 2:\n",
    "User Question: What's the correct way to align my feet for a golf shot?\n",
    "Initial Answer: For proper foot alignment in golf, your feet should be parallel to the target line, about shoulder-width apart. The line of your toes should point perpendicular to your target line. This alignment helps ensure that your body is properly positioned relative to your target, promoting a more accurate shot.\n",
    "\n",
    "Diagram Description: Overhead view of a golfer's grip, showing the interlocking style where the pinky of the trailing hand interlocks with the index finger of the lead hand.\n",
    "\n",
    "Combined Response: For proper foot alignment in golf, your feet should be parallel to the target line, about shoulder-width apart. The line of your toes should point perpendicular to your target line. This alignment helps ensure that your body is properly positioned relative to your target, promoting a more accurate shot. To support this concept, let's look at a diagram from my book:\n",
    "\n",
    "[DIAGRAM INSERTED HERE]\n",
    "\n",
    "While this diagram focuses on the grip rather than foot alignment, it's important to understand how these elements work together. A proper grip, as shown in the diagram, complements correct foot alignment by ensuring that your hands are positioned to work in harmony with your body's alignment. The interlocking grip style depicted helps maintain a unified hand position throughout the swing, which is crucial for translating your correct foot alignment into an accurate shot. Remember, every aspect of your setup, from feet to grip, contributes to the overall success of your swing and shot accuracy.\n",
    "\n",
    "Question: {question}\n",
    "Initial Answer: {initial_answer}\n",
    "Diagram Description: {diagram_description}\n",
    "\n",
    "Now, provide your response for the given user question, initial answer, and diagram description:\n",
    "\"\"\"\n",
    "system_prompt = ChatPromptTemplate.from_template(prompt_template)\n",
    "llm = OpenAI(temperature=0.2)\n",
    "chain = (\n",
    "    system_prompt\n",
    "    | llm\n",
    "    | StrOutputParser()\n",
    ")\n",
    "result = chain.invoke({'question': question,'initial_answer': initial_result, 'diagram_description': matched_descriptions[0]})\n",
    "print(initial_result)\n",
    "print(result)"
   ]
  },
  {
   "cell_type": "code",
   "execution_count": 91,
   "metadata": {},
   "outputs": [
    {
     "data": {
      "text/html": [
       "<pre style=\"white-space:pre;overflow-x:auto;line-height:normal;font-family:Menlo,'DejaVu Sans Mono',consolas,'Courier New',monospace\">\n",
       "<span style=\"color: #008000; text-decoration-color: #008000\">\"The left wrist is a crucial component of the golf swing. It should remain in a supinated position throughout the </span>\n",
       "<span style=\"color: #008000; text-decoration-color: #008000\">swing. This means that the back of the left hand should be facing towards the target at impact. The left wrist </span>\n",
       "<span style=\"color: #008000; text-decoration-color: #008000\">should not start to pronate, or rotate towards the ground, before impact as this can cause a variety of errors. </span>\n",
       "<span style=\"color: #008000; text-decoration-color: #008000\">Instead, the left wrist should continue to supinate throughout the rest of the swing, creating a wider arc and </span>\n",
       "<span style=\"color: #008000; text-decoration-color: #008000\">allowing for maximum clubhead speed. This position also ensures that the left hand does not check or interrupt the </span>\n",
       "<span style=\"color: #008000; text-decoration-color: #008000\">speed of the clubhead, leading to a more consistent and powerful strike. Remember, every good golfer maintains </span>\n",
       "<span style=\"color: #008000; text-decoration-color: #008000\">their left wrist in this supinated position at impact.\"</span>\n",
       "</pre>\n"
      ],
      "text/plain": [
       "\n",
       "\u001b[32m\"The left wrist is a crucial component of the golf swing. It should remain in a supinated position throughout the \u001b[0m\n",
       "\u001b[32mswing. This means that the back of the left hand should be facing towards the target at impact. The left wrist \u001b[0m\n",
       "\u001b[32mshould not start to pronate, or rotate towards the ground, before impact as this can cause a variety of errors. \u001b[0m\n",
       "\u001b[32mInstead, the left wrist should continue to supinate throughout the rest of the swing, creating a wider arc and \u001b[0m\n",
       "\u001b[32mallowing for maximum clubhead speed. This position also ensures that the left hand does not check or interrupt the \u001b[0m\n",
       "\u001b[32mspeed of the clubhead, leading to a more consistent and powerful strike. Remember, every good golfer maintains \u001b[0m\n",
       "\u001b[32mtheir left wrist in this supinated position at impact.\"\u001b[0m\n"
      ]
     },
     "metadata": {},
     "output_type": "display_data"
    },
    {
     "data": {
      "text/html": [
       "<pre style=\"white-space:pre;overflow-x:auto;line-height:normal;font-family:Menlo,'DejaVu Sans Mono',consolas,'Courier New',monospace\">\n",
       "To illustrate this concept, let's look at a diagram from my book:\n",
       "\n",
       "<span style=\"font-weight: bold\">[</span>DIAGRAM INSERTED HERE<span style=\"font-weight: bold\">]</span>\n",
       "\n",
       "While this diagram focuses on the left arm position at address, it's highly relevant to understanding the \n",
       "importance of the left wrist throughout the golf swing. The straight line formed by the left arm creates the \n",
       "optimal radius for the swing arc, promoting a one-piece takeaway and maintaining swing width. This arm position \n",
       "also influences the backswing plane and the club's path through impact. By keeping the left wrist in a supinated \n",
       "position, as described in the initial answer, you can maintain this optimal arm position and maximize clubhead \n",
       "speed for a powerful and consistent strike. Remember, the left wrist plays a crucial role in the success of your \n",
       "golf swing.\n",
       "</pre>\n"
      ],
      "text/plain": [
       "\n",
       "To illustrate this concept, let's look at a diagram from my book:\n",
       "\n",
       "\u001b[1m[\u001b[0mDIAGRAM INSERTED HERE\u001b[1m]\u001b[0m\n",
       "\n",
       "While this diagram focuses on the left arm position at address, it's highly relevant to understanding the \n",
       "importance of the left wrist throughout the golf swing. The straight line formed by the left arm creates the \n",
       "optimal radius for the swing arc, promoting a one-piece takeaway and maintaining swing width. This arm position \n",
       "also influences the backswing plane and the club's path through impact. By keeping the left wrist in a supinated \n",
       "position, as described in the initial answer, you can maintain this optimal arm position and maximize clubhead \n",
       "speed for a powerful and consistent strike. Remember, the left wrist plays a crucial role in the success of your \n",
       "golf swing.\n"
      ]
     },
     "metadata": {},
     "output_type": "display_data"
    }
   ],
   "source": [
    "print(initial_result)\n",
    "print(result)"
   ]
  }
 ],
 "metadata": {
  "kernelspec": {
   "display_name": "work",
   "language": "python",
   "name": "python3"
  },
  "language_info": {
   "codemirror_mode": {
    "name": "ipython",
    "version": 3
   },
   "file_extension": ".py",
   "mimetype": "text/x-python",
   "name": "python",
   "nbconvert_exporter": "python",
   "pygments_lexer": "ipython3",
   "version": "3.12.3"
  }
 },
 "nbformat": 4,
 "nbformat_minor": 2
}
